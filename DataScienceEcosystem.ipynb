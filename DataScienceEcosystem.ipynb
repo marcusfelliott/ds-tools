{
 "cells": [
  {
   "cell_type": "markdown",
   "id": "95d889d8-f50c-49d8-af81-0cb694fac9b1",
   "metadata": {},
   "source": [
    "# Data Science Tools and Ecosystem"
   ]
  },
  {
   "cell_type": "markdown",
   "id": "a6f816b9-64b9-4bc7-af5d-13eda7fba3da",
   "metadata": {},
   "source": [
    "In this notebook, Data Science Tools and Ecosystem are summarized."
   ]
  },
  {
   "cell_type": "markdown",
   "id": "a505d23b-355c-477a-840a-2751845ec501",
   "metadata": {},
   "source": [
    "**Objectives:**\n",
    "- Summarised languages and tools used in the data science field\n",
    "- Go over some of the libraries used\n",
    "- Show a few examples of arithmetic expressions in Python"
   ]
  },
  {
   "cell_type": "markdown",
   "id": "53a14fa1-6558-4de2-90ec-06f4d3e94a5f",
   "metadata": {
    "tags": []
   },
   "source": [
    "#### Some of the popular languages that Data Scientists use are:"
   ]
  },
  {
   "cell_type": "markdown",
   "id": "0e74fe60-f99f-4ef4-bf1d-14fbdf471299",
   "metadata": {},
   "source": [
    "1. Python\n",
    "2. R\n",
    "3. SQL"
   ]
  },
  {
   "cell_type": "markdown",
   "id": "4c4f9896-36c0-434c-a563-f3ef093ab38e",
   "metadata": {
    "tags": []
   },
   "source": [
    "#### Some of the commonly used libraries used by Data Scientists include:"
   ]
  },
  {
   "cell_type": "markdown",
   "id": "e4d23983-3717-48aa-b930-d7778603a631",
   "metadata": {},
   "source": [
    "1. NumPy\n",
    "2. Pandas\n",
    "3. TensorFlow"
   ]
  },
  {
   "cell_type": "markdown",
   "id": "dbc142fd-6152-48ca-93f9-b65ef0a9e885",
   "metadata": {},
   "source": [
    "|Data Science Tools|\n",
    "|---|\n",
    "|Jupyter Notebook|\n",
    "|Spyder|\n",
    "|RStudio|"
   ]
  },
  {
   "cell_type": "markdown",
   "id": "7fad530d-cc85-4092-a245-eb30e9e68681",
   "metadata": {},
   "source": [
    "### Below are a few examples of evaluating arithmetic expressions in Python"
   ]
  },
  {
   "cell_type": "code",
   "execution_count": 3,
   "id": "c2d1f196-79e5-4ffa-bc9a-6fd1cebd4c77",
   "metadata": {},
   "outputs": [
    {
     "data": {
      "text/plain": [
       "17"
      ]
     },
     "execution_count": 3,
     "metadata": {},
     "output_type": "execute_result"
    }
   ],
   "source": [
    "# This is a simple arithmetic expression to multiply then add integers.\n",
    "(3*4)+5"
   ]
  },
  {
   "cell_type": "code",
   "execution_count": 4,
   "id": "f6eb509c-830d-4342-a702-69a87ca83876",
   "metadata": {},
   "outputs": [
    {
     "data": {
      "text/plain": [
       "3.3333333333333335"
      ]
     },
     "execution_count": 4,
     "metadata": {},
     "output_type": "execute_result"
    }
   ],
   "source": [
    "# This will convert 200 minutes into hours.\n",
    "200/60"
   ]
  },
  {
   "cell_type": "markdown",
   "id": "d5e1e466-f835-4ef6-8eab-71edd30ba92e",
   "metadata": {},
   "source": [
    "## Author\n",
    "Marcus Elliott"
   ]
  },
  {
   "cell_type": "code",
   "execution_count": null,
   "id": "cbf528b6-8724-4e8a-8b59-f7f24f89f9ae",
   "metadata": {},
   "outputs": [],
   "source": []
  }
 ],
 "metadata": {
  "kernelspec": {
   "display_name": "anaconda-2022.05-py39",
   "language": "python",
   "name": "conda-env-anaconda-2022.05-py39-py"
  },
  "language_info": {
   "codemirror_mode": {
    "name": "ipython",
    "version": 3
   },
   "file_extension": ".py",
   "mimetype": "text/x-python",
   "name": "python",
   "nbconvert_exporter": "python",
   "pygments_lexer": "ipython3",
   "version": "3.9.12"
  }
 },
 "nbformat": 4,
 "nbformat_minor": 5
}
